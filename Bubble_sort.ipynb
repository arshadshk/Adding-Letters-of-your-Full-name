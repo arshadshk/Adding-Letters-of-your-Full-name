{
  "nbformat": 4,
  "nbformat_minor": 0,
  "metadata": {
    "colab": {
      "name": "Bubble sort.ipynb",
      "version": "0.3.2",
      "provenance": [],
      "collapsed_sections": []
    },
    "kernelspec": {
      "name": "python3",
      "display_name": "Python 3"
    }
  },
  "cells": [
    {
      "metadata": {
        "id": "f_s8sZTksbiG",
        "colab_type": "code",
        "colab": {}
      },
      "cell_type": "code",
      "source": [
        "def bubble(lists):\n",
        "  for i in range(0,len(lists)-1):\n",
        "    for j in range(0,len(lists)-1-i):\n",
        "      if lists[j]>lists[j+1]:\n",
        "        lists[j],lists[j+1]=lists[j+1],lists[j]\n",
        "  return lists"
      ],
      "execution_count": 0,
      "outputs": []
    },
    {
      "metadata": {
        "id": "eUvOzUp_x_we",
        "colab_type": "code",
        "colab": {
          "base_uri": "https://localhost:8080/",
          "height": 34
        },
        "outputId": "e26c849c-2823-4da3-89d9-84e1fb941e58"
      },
      "cell_type": "code",
      "source": [
        "l=[5,4,1,2,9,0,8,9]\n",
        "bubble(l)"
      ],
      "execution_count": 11,
      "outputs": [
        {
          "output_type": "execute_result",
          "data": {
            "text/plain": [
              "[0, 1, 2, 4, 5, 8, 9, 9]"
            ]
          },
          "metadata": {
            "tags": []
          },
          "execution_count": 11
        }
      ]
    }
  ]
}