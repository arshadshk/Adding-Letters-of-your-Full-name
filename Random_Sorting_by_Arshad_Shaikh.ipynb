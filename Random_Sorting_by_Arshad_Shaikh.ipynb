{
  "nbformat": 4,
  "nbformat_minor": 0,
  "metadata": {
    "colab": {
      "name": "Random Sorting by-Arshad Shaikh.ipynb",
      "version": "0.3.2",
      "provenance": [],
      "collapsed_sections": []
    },
    "kernelspec": {
      "name": "python3",
      "display_name": "Python 3"
    }
  },
  "cells": [
    {
      "metadata": {
        "id": "NQBmOWkXxk13",
        "colab_type": "code",
        "colab": {}
      },
      "cell_type": "code",
      "source": [
        "### ASSIGNMENT- Random Sorting on Interwiew case\n",
        "### Arshad Shaikh\n",
        "### Assumptiom- Candidates with there skills level is given input.\n",
        "### with each index as unique candidate id.\n",
        "### i.e. L = [45, 67, .....]. candidate 45 has ID 1, 67 has 2 , and so on.\n",
        "\n",
        "\n",
        "def start(L):             #Initial function\n",
        "  import random as rn     #library used to generate random no.\n",
        " \n",
        "  step=1                  #It is counter variable *for better visualisation\n",
        " \n",
        "  d={}                    #used to store input list\n",
        "  E={}                    #used for finding the minmum optimal step\n",
        "  \n",
        "  for each in range(1,len(L)+1):\n",
        "    d[each]=L[each-1]      \n",
        "  print(\"{candidate skill level :: candidate index\\n\",d)\n",
        "  d= dict (zip(d.values(),d.keys()))    # useful in last step for getting index of candidate\n",
        "  \n",
        "  i= rn.randint(0,len(L)-1)\n",
        "  B= L[i]                 #approach is store randomly picked no. in a variable\n",
        "  del L[i]                #delete from list\n",
        "  E[0] = step             # Read the final print statement\n",
        "  E[1] = B                # to understand this two.\n",
        "  \n",
        "  return shuffle(L,B,step,E,d)   #call the function\n",
        "\n",
        "\n",
        "def shuffle(L,B,step,E,d):\n",
        "    \n",
        "  if E[1]!=B:             # ***\n",
        "    E[0]=step             # ***\n",
        "    E[1]=B                # ***\n",
        "  else:                   # ***\n",
        "    pass                  # ***\n",
        "    \n",
        "  print(\"Step\", step)\n",
        "  print(\"Randomly picked Best candidate is\",d[B],\" with skill \",B,\"\\n\")\n",
        "  \n",
        "  if len(L)==0:\n",
        "    return print(\"Done, The Best candidate is \",d[B],\", with skill \",B,\n",
        "                \"\\n Final Answer was computed in step no.\",E[0],\n",
        "                \"\\nComparing to 1 to n sorting, time saved is\",step-E[0],\"step\")\n",
        "  \n",
        "  j = rn.randint(0,len(L)-1)         #Take a random no. j between 0 to nth index of list\n",
        "  temp = L[j]                        #Sore in temp\n",
        "  del L[j]                           # delete it acc to our approach\n",
        "  \n",
        "  if B > temp:                                  #Main steps- compare with current temp candidate *if skill of the\n",
        "    step = step+1                    #counter#  # previous one is greater then no need to change\n",
        "    return shuffle(L,B,step,E,d)                  # call the func with current parameters\n",
        "  \n",
        "  else:\n",
        "    step = step+1\n",
        "    B= temp                         #Else then assign temp as Best B candidate \n",
        "    return shuffle(L,B,step,E,d)      # and call the func with these parameters.\n"
      ],
      "execution_count": 0,
      "outputs": []
    },
    {
      "metadata": {
        "id": "m26yzSq172Bs",
        "colab_type": "code",
        "colab": {}
      },
      "cell_type": "code",
      "source": [
        "L =[56,3,9,8,4,2,1,5,87]             # Input parameters"
      ],
      "execution_count": 0,
      "outputs": []
    },
    {
      "metadata": {
        "id": "ah_LHjYY7fgP",
        "colab_type": "code",
        "colab": {
          "base_uri": "https://localhost:8080/",
          "height": 977
        },
        "outputId": "4f835ff5-7abd-44d1-895d-d661ce01f616"
      },
      "cell_type": "code",
      "source": [
        "start(L)                             # Calling the function with L as parameter\n",
        "                                     # your answer may vary as it is randomly picking"
      ],
      "execution_count": 220,
      "outputs": [
        {
          "output_type": "stream",
          "text": [
            "{candidate skill level :: candidate index\n",
            " {1: 56, 2: 3, 3: 9, 4: 8, 5: 4, 6: 2, 7: 1, 8: 5, 9: 87}\n",
            "Step 1\n",
            "Randomly picked Best candidate is 9  with skill  87 \n",
            "\n",
            "Step 2\n",
            "Randomly picked Best candidate is 9  with skill  87 \n",
            "\n",
            "Step 3\n",
            "Randomly picked Best candidate is 9  with skill  87 \n",
            "\n",
            "Step 4\n",
            "Randomly picked Best candidate is 9  with skill  87 \n",
            "\n",
            "Step 5\n",
            "Randomly picked Best candidate is 9  with skill  87 \n",
            "\n",
            "Step 6\n",
            "Randomly picked Best candidate is 9  with skill  87 \n",
            "\n",
            "Step 7\n",
            "Randomly picked Best candidate is 9  with skill  87 \n",
            "\n",
            "Step 8\n",
            "Randomly picked Best candidate is 9  with skill  87 \n",
            "\n",
            "Step 9\n",
            "Randomly picked Best candidate is 9  with skill  87 \n",
            "\n",
            "Done, The Best candidate is  9 , with skill  87 \n",
            " Final Answer was computed in step no. 1 \n",
            "Comparing to 1 to n sorting, time saved is 8 step\n"
          ],
          "name": "stdout"
        }
      ]
    }
  ]
}