{
  "nbformat": 4,
  "nbformat_minor": 0,
  "metadata": {
    "colab": {
      "name": "Insertion sort.ipynb",
      "version": "0.3.2",
      "provenance": [],
      "collapsed_sections": []
    },
    "kernelspec": {
      "name": "python3",
      "display_name": "Python 3"
    }
  },
  "cells": [
    {
      "metadata": {
        "id": "tHtdDLSwfjgz",
        "colab_type": "code",
        "colab": {}
      },
      "cell_type": "code",
      "source": [
        "#using while loop\n",
        "\n",
        "def insort(lst):\n",
        "  for i in range(1,len(lst)):\n",
        "    j = i-1\n",
        "    \n",
        "    while lst[j]>lst[j+1] and j>0:\n",
        "      lst[j],lst[j+1] = lst[j+1],lst[j]\n",
        "      j=j-1\n",
        "    "
      ],
      "execution_count": 0,
      "outputs": []
    },
    {
      "metadata": {
        "id": "FVitVS2khDNS",
        "colab_type": "code",
        "colab": {}
      },
      "cell_type": "code",
      "source": [
        "#using for loop\n",
        "\n",
        "def insrt(l):\n",
        "  for i in range(1,len(l)):\n",
        "    for j in range(i,0,-1): #or condition is taken(i-1,0,-1)\n",
        "      if l[j]<l[j-1]:       # if l[j]>l[j+1]\n",
        "        l[j],l[j-1]=l[j-1],l[j]"
      ],
      "execution_count": 0,
      "outputs": []
    }
  ]
}