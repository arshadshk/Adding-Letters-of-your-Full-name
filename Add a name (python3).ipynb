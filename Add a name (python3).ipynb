{
 "cells": [
  {
   "cell_type": "code",
   "execution_count": null,
   "metadata": {},
   "outputs": [],
   "source": [
    "############NOTE-  FOR ENTERING YOUR NAME, USE A CAPITAL LETTER IN THE START OF EACH WORD AND DONT GIVE ANY SPACES#########\n",
    "import re   #########using Packkage for spliting a string based on Capital letter\n",
    "print(\"Enter your Names\")\n",
    "a = input()\n",
    "a = str(a)\n",
    "b=re.findall('[A-Z][^A-Z]*',a)        #########It will split the string \n",
    "\n",
    "l=[0]     #################### Creating a empty list for storing the lengths of each word                                \n",
    "\n",
    "\n",
    "for s in b:         ################# Importing the lengths to list l, by .append() method\n",
    "    n=len(s)\n",
    "    l.append(n)\n",
    "\n",
    "total=0                    ########### GEnerating a Total Variable to store te final result\n",
    "\n",
    "for each in l:              ######### Iterating trough the l list and adding the values to total\n",
    "    total=total+each\n",
    "    \n",
    "lists=list(str(total))         ##### converting the total fron integer to string\n",
    "final=0\n",
    "\n",
    "for each in lists:          ######using for to iterate each string in lists\n",
    "    final=final+int(each)   ###### adding each value to the final(having initial value zero) by converting back to integer using int()  \n",
    "print(final)                    #### Display the result\n"
   ]
  }
 ],
 "metadata": {
  "kernelspec": {
   "display_name": "Python 3",
   "language": "python",
   "name": "python3"
  },
  "language_info": {
   "codemirror_mode": {
    "name": "ipython",
    "version": 3
   },
   "file_extension": ".py",
   "mimetype": "text/x-python",
   "name": "python",
   "nbconvert_exporter": "python",
   "pygments_lexer": "ipython3",
   "version": "3.6.5"
  }
 },
 "nbformat": 4,
 "nbformat_minor": 2
}
